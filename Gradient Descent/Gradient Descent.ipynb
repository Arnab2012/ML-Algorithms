{
 "cells": [
  {
   "cell_type": "code",
   "execution_count": 1,
   "id": "3aec2b34",
   "metadata": {},
   "outputs": [],
   "source": [
    "# importing all libraries\n",
    "import pandas as pd\n",
    "import numpy as np\n",
    "from sklearn.datasets import load_diabetes"
   ]
  },
  {
   "cell_type": "code",
   "execution_count": 2,
   "id": "c264b9ea",
   "metadata": {},
   "outputs": [],
   "source": [
    "X,Y = load_diabetes(return_X_y=True)"
   ]
  },
  {
   "cell_type": "code",
   "execution_count": 3,
   "id": "1d430cc0",
   "metadata": {},
   "outputs": [
    {
     "data": {
      "text/plain": [
       "(442, 10)"
      ]
     },
     "execution_count": 3,
     "metadata": {},
     "output_type": "execute_result"
    }
   ],
   "source": [
    "X.shape"
   ]
  },
  {
   "cell_type": "code",
   "execution_count": 4,
   "id": "5d010c7f",
   "metadata": {},
   "outputs": [],
   "source": [
    "from sklearn.model_selection import train_test_split\n",
    "X_train,X_test,Y_train,Y_test=train_test_split(X,Y,test_size=0.2,random_state=2)"
   ]
  },
  {
   "cell_type": "markdown",
   "id": "4e11d348",
   "metadata": {},
   "source": [
    "# Sklearn LR"
   ]
  },
  {
   "cell_type": "code",
   "execution_count": 5,
   "id": "35c6e036",
   "metadata": {},
   "outputs": [],
   "source": [
    "from sklearn.linear_model import LinearRegression\n",
    "lr=LinearRegression()"
   ]
  },
  {
   "cell_type": "code",
   "execution_count": 6,
   "id": "0d67d6d5",
   "metadata": {},
   "outputs": [
    {
     "data": {
      "text/html": [
       "<style>#sk-container-id-1 {color: black;background-color: white;}#sk-container-id-1 pre{padding: 0;}#sk-container-id-1 div.sk-toggleable {background-color: white;}#sk-container-id-1 label.sk-toggleable__label {cursor: pointer;display: block;width: 100%;margin-bottom: 0;padding: 0.3em;box-sizing: border-box;text-align: center;}#sk-container-id-1 label.sk-toggleable__label-arrow:before {content: \"▸\";float: left;margin-right: 0.25em;color: #696969;}#sk-container-id-1 label.sk-toggleable__label-arrow:hover:before {color: black;}#sk-container-id-1 div.sk-estimator:hover label.sk-toggleable__label-arrow:before {color: black;}#sk-container-id-1 div.sk-toggleable__content {max-height: 0;max-width: 0;overflow: hidden;text-align: left;background-color: #f0f8ff;}#sk-container-id-1 div.sk-toggleable__content pre {margin: 0.2em;color: black;border-radius: 0.25em;background-color: #f0f8ff;}#sk-container-id-1 input.sk-toggleable__control:checked~div.sk-toggleable__content {max-height: 200px;max-width: 100%;overflow: auto;}#sk-container-id-1 input.sk-toggleable__control:checked~label.sk-toggleable__label-arrow:before {content: \"▾\";}#sk-container-id-1 div.sk-estimator input.sk-toggleable__control:checked~label.sk-toggleable__label {background-color: #d4ebff;}#sk-container-id-1 div.sk-label input.sk-toggleable__control:checked~label.sk-toggleable__label {background-color: #d4ebff;}#sk-container-id-1 input.sk-hidden--visually {border: 0;clip: rect(1px 1px 1px 1px);clip: rect(1px, 1px, 1px, 1px);height: 1px;margin: -1px;overflow: hidden;padding: 0;position: absolute;width: 1px;}#sk-container-id-1 div.sk-estimator {font-family: monospace;background-color: #f0f8ff;border: 1px dotted black;border-radius: 0.25em;box-sizing: border-box;margin-bottom: 0.5em;}#sk-container-id-1 div.sk-estimator:hover {background-color: #d4ebff;}#sk-container-id-1 div.sk-parallel-item::after {content: \"\";width: 100%;border-bottom: 1px solid gray;flex-grow: 1;}#sk-container-id-1 div.sk-label:hover label.sk-toggleable__label {background-color: #d4ebff;}#sk-container-id-1 div.sk-serial::before {content: \"\";position: absolute;border-left: 1px solid gray;box-sizing: border-box;top: 0;bottom: 0;left: 50%;z-index: 0;}#sk-container-id-1 div.sk-serial {display: flex;flex-direction: column;align-items: center;background-color: white;padding-right: 0.2em;padding-left: 0.2em;position: relative;}#sk-container-id-1 div.sk-item {position: relative;z-index: 1;}#sk-container-id-1 div.sk-parallel {display: flex;align-items: stretch;justify-content: center;background-color: white;position: relative;}#sk-container-id-1 div.sk-item::before, #sk-container-id-1 div.sk-parallel-item::before {content: \"\";position: absolute;border-left: 1px solid gray;box-sizing: border-box;top: 0;bottom: 0;left: 50%;z-index: -1;}#sk-container-id-1 div.sk-parallel-item {display: flex;flex-direction: column;z-index: 1;position: relative;background-color: white;}#sk-container-id-1 div.sk-parallel-item:first-child::after {align-self: flex-end;width: 50%;}#sk-container-id-1 div.sk-parallel-item:last-child::after {align-self: flex-start;width: 50%;}#sk-container-id-1 div.sk-parallel-item:only-child::after {width: 0;}#sk-container-id-1 div.sk-dashed-wrapped {border: 1px dashed gray;margin: 0 0.4em 0.5em 0.4em;box-sizing: border-box;padding-bottom: 0.4em;background-color: white;}#sk-container-id-1 div.sk-label label {font-family: monospace;font-weight: bold;display: inline-block;line-height: 1.2em;}#sk-container-id-1 div.sk-label-container {text-align: center;}#sk-container-id-1 div.sk-container {/* jupyter's `normalize.less` sets `[hidden] { display: none; }` but bootstrap.min.css set `[hidden] { display: none !important; }` so we also need the `!important` here to be able to override the default hidden behavior on the sphinx rendered scikit-learn.org. See: https://github.com/scikit-learn/scikit-learn/issues/21755 */display: inline-block !important;position: relative;}#sk-container-id-1 div.sk-text-repr-fallback {display: none;}</style><div id=\"sk-container-id-1\" class=\"sk-top-container\"><div class=\"sk-text-repr-fallback\"><pre>LinearRegression()</pre><b>In a Jupyter environment, please rerun this cell to show the HTML representation or trust the notebook. <br />On GitHub, the HTML representation is unable to render, please try loading this page with nbviewer.org.</b></div><div class=\"sk-container\" hidden><div class=\"sk-item\"><div class=\"sk-estimator sk-toggleable\"><input class=\"sk-toggleable__control sk-hidden--visually\" id=\"sk-estimator-id-1\" type=\"checkbox\" checked><label for=\"sk-estimator-id-1\" class=\"sk-toggleable__label sk-toggleable__label-arrow\">LinearRegression</label><div class=\"sk-toggleable__content\"><pre>LinearRegression()</pre></div></div></div></div></div>"
      ],
      "text/plain": [
       "LinearRegression()"
      ]
     },
     "execution_count": 6,
     "metadata": {},
     "output_type": "execute_result"
    }
   ],
   "source": [
    "lr.fit(X_train,Y_train)"
   ]
  },
  {
   "cell_type": "code",
   "execution_count": 7,
   "id": "5d56c374",
   "metadata": {},
   "outputs": [
    {
     "data": {
      "text/plain": [
       "151.88331005254167"
      ]
     },
     "execution_count": 7,
     "metadata": {},
     "output_type": "execute_result"
    }
   ],
   "source": [
    "lr.intercept_"
   ]
  },
  {
   "cell_type": "code",
   "execution_count": 8,
   "id": "9fd17e5d",
   "metadata": {},
   "outputs": [
    {
     "data": {
      "text/plain": [
       "array([  -9.15865318, -205.45432163,  516.69374454,  340.61999905,\n",
       "       -895.5520019 ,  561.22067904,  153.89310954,  126.73139688,\n",
       "        861.12700152,   52.42112238])"
      ]
     },
     "execution_count": 8,
     "metadata": {},
     "output_type": "execute_result"
    }
   ],
   "source": [
    "lr.coef_"
   ]
  },
  {
   "cell_type": "code",
   "execution_count": 9,
   "id": "e7535988",
   "metadata": {},
   "outputs": [],
   "source": [
    "Y_pred=lr.predict(X_test)"
   ]
  },
  {
   "cell_type": "code",
   "execution_count": 10,
   "id": "ad57a51b",
   "metadata": {},
   "outputs": [
    {
     "data": {
      "text/plain": [
       "0.4399338661568968"
      ]
     },
     "execution_count": 10,
     "metadata": {},
     "output_type": "execute_result"
    }
   ],
   "source": [
    "from sklearn.metrics import r2_score\n",
    "r2_score(Y_test,Y_pred)"
   ]
  },
  {
   "cell_type": "code",
   "execution_count": 11,
   "id": "d3e582d7",
   "metadata": {},
   "outputs": [
    {
     "data": {
      "text/plain": [
       "(353, 10)"
      ]
     },
     "execution_count": 11,
     "metadata": {},
     "output_type": "execute_result"
    }
   ],
   "source": [
    "X_train.shape"
   ]
  },
  {
   "cell_type": "markdown",
   "id": "66d973da",
   "metadata": {},
   "source": [
    "# My Batch GD Regressor class"
   ]
  },
  {
   "cell_type": "code",
   "execution_count": 12,
   "id": "0d169860",
   "metadata": {},
   "outputs": [],
   "source": [
    "class GDRegressor:\n",
    "    def __init__(self,lr=0.01,epochs=100):\n",
    "#       initializing m and b to none\n",
    "        self.coef=None\n",
    "        self.intercept=None\n",
    "        self.lr=lr\n",
    "        self.epochs=epochs\n",
    "        \n",
    "    def fit(self,X_train,Y_train):\n",
    "#       assuming all coeff values to 1 and intercept value to 0\n",
    "        self.coef=np.ones(X_train.shape[1])\n",
    "        self.intercept=0\n",
    "        \n",
    "#       for a particular range we update coeff and intercept value\n",
    "#       beta_new = beta_old - (lr*slope)\n",
    "        for i in range(self.epochs):\n",
    "            Y_hat= np.dot(X_train,self.coef)+self.intercept #  Y = mX + b\n",
    "            intercept_der=-2 * np.mean(Y_train-Y_hat) # (-2/n) * (sum) (Y- Y_pred)^2\n",
    "            self.intercept=self.intercept - (self.lr*intercept_der)\n",
    "            \n",
    "            coef_der=-2*np.dot((Y_train-Y_hat),X_train)/X_train.shape[0] # (-2) * ((sum) (Y- Y_pred)^2 * X )/ n\n",
    "            self.coef=self.coef - (self.lr*coef_der)\n",
    "            \n",
    "        print(self.intercept,self.coef)\n",
    "    def predict(self,X_test):\n",
    "        return np.dot(X_test,self.coef)+self.intercept #  Y = mX + b"
   ]
  },
  {
   "cell_type": "code",
   "execution_count": 13,
   "id": "c4a10b85",
   "metadata": {},
   "outputs": [],
   "source": [
    "gdr=GDRegressor(lr=0.5,epochs=1000)"
   ]
  },
  {
   "cell_type": "code",
   "execution_count": 14,
   "id": "f7da6e78",
   "metadata": {},
   "outputs": [
    {
     "name": "stdout",
     "output_type": "stream",
     "text": [
      "152.01351687661833 [  14.38990585 -173.7235727   491.54898524  323.91524824  -39.32648042\n",
      " -116.01061213 -194.04077415  103.38135565  451.63448787   97.57218278]\n"
     ]
    }
   ],
   "source": [
    "gdr.fit(X_train,Y_train)"
   ]
  },
  {
   "cell_type": "code",
   "execution_count": 15,
   "id": "23d6106e",
   "metadata": {},
   "outputs": [],
   "source": [
    "Y_pred=gdr.predict(X_test)"
   ]
  },
  {
   "cell_type": "code",
   "execution_count": 16,
   "id": "7bbd2d2a",
   "metadata": {},
   "outputs": [
    {
     "data": {
      "text/plain": [
       "0.4534503034722803"
      ]
     },
     "execution_count": 16,
     "metadata": {},
     "output_type": "execute_result"
    }
   ],
   "source": [
    "r2_score(Y_test,Y_pred)"
   ]
  },
  {
   "cell_type": "markdown",
   "id": "d103e2f7",
   "metadata": {},
   "source": [
    "# My Stochastic GD Regressor Class"
   ]
  },
  {
   "cell_type": "code",
   "execution_count": 17,
   "id": "568f56d3",
   "metadata": {},
   "outputs": [],
   "source": [
    "class SGDRegressor:\n",
    "#  in batch stochastic GD we update the value of m and b in every iteration for whole dataset but here we update for a random row input\n",
    "#  it is faster than Batch GD but not for same no of epochs\n",
    "    def __init__(self,lr=0.01,epochs=100):\n",
    "        self.coef=None\n",
    "        self.intercept=None\n",
    "        self.lr=lr\n",
    "        self.epochs=epochs\n",
    "        \n",
    "    def fit(self,X_train,Y_train):\n",
    "        self.coef=np.ones(X_train.shape[1])\n",
    "        self.intercept=0\n",
    "        \n",
    "        for i in range(self.epochs):\n",
    "            for j in range(X_train.shape[0]):\n",
    "                \n",
    "                ind=np.random.randint(0,X_train.shape[0]) # calculating a random row and same operations\n",
    "                Y_hat= np.dot(X_train[ind],self.coef)+self.intercept\n",
    "                intercept_der=-2 * np.mean(Y_train[ind]-Y_hat)\n",
    "                self.intercept=self.intercept - (self.lr*intercept_der)\n",
    "            \n",
    "                coef_der=-2*np.dot((Y_train[ind]-Y_hat),X_train[ind])\n",
    "                self.coef=self.coef - (self.lr*coef_der)\n",
    "            \n",
    "        print(self.intercept,self.coef)\n",
    "    def predict(self,X_test):\n",
    "        return np.dot(X_test,self.coef)+self.intercept"
   ]
  },
  {
   "cell_type": "code",
   "execution_count": 18,
   "id": "40474c54",
   "metadata": {},
   "outputs": [],
   "source": [
    "sgd=SGDRegressor(lr=0.01,epochs=40)"
   ]
  },
  {
   "cell_type": "code",
   "execution_count": 19,
   "id": "54be6f0f",
   "metadata": {},
   "outputs": [
    {
     "name": "stdout",
     "output_type": "stream",
     "text": [
      "149.58404296757186 [  65.56359888  -51.92474897  323.77361636  232.13948179   29.56421954\n",
      "   -8.72102505 -158.15816072  124.40472402  285.73784952  126.58066595]\n"
     ]
    }
   ],
   "source": [
    "sgd.fit(X_train,Y_train)"
   ]
  },
  {
   "cell_type": "code",
   "execution_count": 20,
   "id": "b4580cfd",
   "metadata": {},
   "outputs": [],
   "source": [
    "Y_pred=sgd.predict(X_test)"
   ]
  },
  {
   "cell_type": "code",
   "execution_count": 21,
   "id": "9fbf292a",
   "metadata": {},
   "outputs": [
    {
     "data": {
      "text/plain": [
       "0.42058282414502135"
      ]
     },
     "execution_count": 21,
     "metadata": {},
     "output_type": "execute_result"
    }
   ],
   "source": [
    "r2_score(Y_test,Y_pred)"
   ]
  },
  {
   "cell_type": "markdown",
   "id": "64a95f89",
   "metadata": {},
   "source": [
    "# My MiniBatch GD Regressor Class"
   ]
  },
  {
   "cell_type": "code",
   "execution_count": 22,
   "id": "27e76a2c",
   "metadata": {},
   "outputs": [],
   "source": [
    "import random\n",
    "\n",
    "#  here we divide whole dataset into certain batch and then update batch wise\n",
    "class MGDRegressor:\n",
    "    def __init__(self,batch_size,lr=0.01,epochs=100):\n",
    "        self.coef=None\n",
    "        self.intercept=None\n",
    "        self.lr=lr\n",
    "        self.epochs=epochs\n",
    "        self.batch_size=batch_size\n",
    "        \n",
    "    def fit(self,X_train,Y_train):\n",
    "        self.coef=np.ones(X_train.shape[1])\n",
    "        self.intercept=0\n",
    "        \n",
    "        for i in range(self.epochs):\n",
    "            for j in range(int(X_train.shape[0]/self.batch_size)):\n",
    "                \n",
    "                ind=random.sample(range(X_train.shape[0]),self.batch_size)\n",
    "                Y_hat= np.dot(X_train[ind],self.coef)+self.intercept\n",
    "                intercept_der=-2 * np.mean(Y_train[ind]-Y_hat)\n",
    "                self.intercept=self.intercept - (self.lr*intercept_der)\n",
    "            \n",
    "                coef_der=-2*np.dot((Y_train[ind]-Y_hat),X_train[ind])\n",
    "                self.coef=self.coef - (self.lr*coef_der)\n",
    "            \n",
    "        print(self.intercept,self.coef)\n",
    "    def predict(self,X_test):\n",
    "        return np.dot(X_test,self.coef)+self.intercept"
   ]
  },
  {
   "cell_type": "code",
   "execution_count": 23,
   "id": "ca2af5c5",
   "metadata": {},
   "outputs": [],
   "source": [
    "mgd=MGDRegressor(batch_size=int(X_train.shape[0]/50),lr=0.01,epochs=100)"
   ]
  },
  {
   "cell_type": "code",
   "execution_count": 24,
   "id": "18f0270d",
   "metadata": {},
   "outputs": [
    {
     "name": "stdout",
     "output_type": "stream",
     "text": [
      "150.79569678313376 [  25.18729286 -132.29794932  452.81830601  301.15095907  -28.67216565\n",
      "  -94.83105107 -197.29760482  116.55746024  407.71959096  117.01195885]\n"
     ]
    }
   ],
   "source": [
    "mgd.fit(X_train,Y_train)"
   ]
  },
  {
   "cell_type": "code",
   "execution_count": 25,
   "id": "c79d7be9",
   "metadata": {},
   "outputs": [],
   "source": [
    "Y_pred=mgd.predict(X_test)"
   ]
  },
  {
   "cell_type": "code",
   "execution_count": 26,
   "id": "a1a707ab",
   "metadata": {},
   "outputs": [
    {
     "data": {
      "text/plain": [
       "0.45299646698279117"
      ]
     },
     "execution_count": 26,
     "metadata": {},
     "output_type": "execute_result"
    }
   ],
   "source": [
    "r2_score(Y_test,Y_pred)"
   ]
  }
 ],
 "metadata": {
  "kernelspec": {
   "display_name": "Python 3 (ipykernel)",
   "language": "python",
   "name": "python3"
  },
  "language_info": {
   "codemirror_mode": {
    "name": "ipython",
    "version": 3
   },
   "file_extension": ".py",
   "mimetype": "text/x-python",
   "name": "python",
   "nbconvert_exporter": "python",
   "pygments_lexer": "ipython3",
   "version": "3.10.5"
  }
 },
 "nbformat": 4,
 "nbformat_minor": 5
}
